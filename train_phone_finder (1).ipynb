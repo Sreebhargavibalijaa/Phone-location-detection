{
  "cells": [
    {
      "cell_type": "code",
      "execution_count": null,
      "metadata": {
        "id": "RiGBlKkADGyo",
        "outputId": "bf13d362-f048-484a-ea1d-5e05d8addcbf",
        "colab": {
          "base_uri": "https://localhost:8080/"
        }
      },
      "outputs": [
        {
          "output_type": "stream",
          "name": "stdout",
          "text": [
            "[INFO] loading dataset...\n"
          ]
        }
      ],
      "source": [
        "\n",
        "# import the necessary packages\n",
        "# from pyimagesearch import config\n",
        "import tensorflow\n",
        "from tensorflow.keras.applications import VGG16\n",
        "from tensorflow.keras.layers import Flatten\n",
        "from tensorflow.keras.layers import Dense\n",
        "from tensorflow.keras.layers import Input\n",
        "from tensorflow.keras.models import Model\n",
        "from tensorflow.keras.optimizers import Adam\n",
        "from tensorflow.keras.preprocessing.image import img_to_array\n",
        "from tensorflow.keras.preprocessing.image import load_img\n",
        "from sklearn.model_selection import train_test_split\n",
        "\n",
        "import matplotlib.pyplot as plt\n",
        "\n",
        "import numpy as np\n",
        "import matplotlib.pyplot as plt\n",
        "import os\n",
        "import cv2\n",
        "import os\n",
        "print(\"[INFO] loading dataset...\")\n",
        "f = open('/content/labels.txt', 'r')\n",
        "rows = f.read().strip().split(\"\\n\")\n",
        "# initialize the list of data (images), our target output predictions\n",
        "# (bounding box coordinates), along with the filenames of the\n",
        "# individual images\n",
        "data = []\n",
        "targets = []\n",
        "filenames = []\n",
        "\n",
        "for row in rows:\n",
        "\t# break the row into the filename and bounding box coordinates\n",
        "    [filename, startX, startY] = row.split()\n",
        "    # endX = startX + str(1)\n",
        "    # endY = startY + str(1)\n",
        "\n",
        "    image = cv2.imread(\"/content/\"+filename) #/1.jpg #/content/31.jpg\n",
        "    imagePath = \"/content/\"+filename\n",
        "    (h, w) = image.shape[:2]\n",
        "    startX = float(startX) \n",
        "    startY = float(startY) \n",
        "    # endX = float(endX) / w\n",
        "    # endY = float(endY) / h\n",
        "    image = load_img(imagePath, target_size=(224, 224))\n",
        "    image = img_to_array(image)\n",
        "\n",
        "# # update our list of data, targets, and filenames\n",
        "    data.append(image)\n",
        "    targets.append((startX, startY))\n",
        "    filenames.append(filename)"
      ]
    },
    {
      "cell_type": "code",
      "execution_count": null,
      "metadata": {
        "id": "klBWMnBfGLxz"
      },
      "outputs": [],
      "source": [
        "data = np.array(data, dtype=\"float32\") / 255.0\n",
        "targets = np.array(targets, dtype=\"float32\")\n",
        "# partition the data into training and testing splits using 90% of\n",
        "# the data for training and the remaining 10% for testing\n",
        "split = train_test_split(data, targets, filenames, test_size = 0.10, random_state=42)\n",
        "# unpack the data split\n",
        "(trainImages, testImages) = split[:2]\n",
        "(trainTargets, testTargets) = split[2:4]\n",
        "(trainFilenames, testFilenames) = split[4:]\n",
        "# write the testing filenames to disk so that we can use then"
      ]
    },
    {
      "cell_type": "code",
      "execution_count": null,
      "metadata": {
        "id": "GxvkBWx-GfaY"
      },
      "outputs": [],
      "source": [
        "# load the VGG16 network, ensuring the head FC layers are left off\n",
        "vgg = tensorflow.keras.applications.ResNet50(weights=\"imagenet\", include_top=False,\n",
        "\tinput_tensor=Input(shape=(224, 224, 3)))\n",
        "# freeze all VGG layers so they will *not* be updated during the\n",
        "# training process\n",
        "vgg.trainable = False\n",
        "# flatten the max-pooling output of VGG\n",
        "flatten = vgg.output\n",
        "flatten = Flatten()(flatten)\n",
        "# construct a fully-connected layer header to output the predicted\n",
        "# bounding box coordinates\n",
        "bboxHead = Dense(128, activation=\"relu\")(flatten)\n",
        "bboxHead = Dense(64, activation=\"relu\")(bboxHead)\n",
        "bboxHead = Dense(32, activation=\"relu\")(bboxHead)\n",
        "bboxHead = Dense(16, activation=\"relu\")(bboxHead)\n",
        "bboxHead = Dense(8, activation=\"relu\")(bboxHead)\n",
        "bboxHead = Dense(2, activation=\"sigmoid\")(bboxHead)\n",
        "# construct the model we will fine-tune for bounding box regression\n",
        "model = Model(inputs=vgg.input, outputs=bboxHead)"
      ]
    },
    {
      "cell_type": "code",
      "execution_count": null,
      "metadata": {
        "id": "jOPLUjv_GjM5"
      },
      "outputs": [],
      "source": [
        "# initialize the optimizer, compile the model, and show the model\n",
        "opt = Adam(lr=1e-5) # replacement optimization algorithm for stochastic gradient descent for training deep learning models\n",
        "model.compile(loss=\"mse\", optimizer=opt)\n",
        "print(model.summary())\n",
        "# train the network for bounding box regression\n",
        "print(\"[INFO] training bounding box regressor...\") #BATCH_SIZE = 32 #NUM_EPOCHS = 25\n",
        "H = model.fit(trainImages, trainTargets,validation_data=(testImages, testTargets), batch_size=16, epochs=200, verbose=1)"
      ]
    },
    {
      "cell_type": "code",
      "source": [
        "#Calculating accuracy\n",
        "import imutils\n",
        "import cv2\n",
        "import os\n",
        "import math\n",
        "from google.colab.patches import cv2_imshow\n",
        "# # loop over the images that we'll be testing using our bounding box\n",
        "# # regression model\n",
        "# for imagePath in imagePaths:\n",
        "\t# load the input image (in Keras format) from disk and preprocess\n",
        "\t# it, scaling the pixel intensities to the range [0, 1]\n",
        "count_trues = 0\n",
        "for t in trainFilenames:\n",
        "  imagePath = \"/content/\" + t\n",
        "  image = load_img(imagePath, target_size=(224, 224))\n",
        "  image = img_to_array(image) / 255.0\n",
        "  image = np.expand_dims(image, axis=0)\n",
        "    # make bounding box predictions on the input image\n",
        "  preds = model.predict(image)[0]\n",
        "  (startX, startY) = preds\n",
        "  # check for distance:\n",
        "  #1) # get image name from image path\n",
        "  #2) #  get the respective corrdinates\n",
        "  #3) # check to see ditance between predicted and actual centers is less than 0.05\n",
        "  test = imagePath[::-1]\n",
        "  index = test.index(\"/\")\n",
        "  image_name = test[:index]\n",
        "  for r in rows:\n",
        "    r = r.split()\n",
        "    if t == r[0]:\n",
        "      if math.sqrt((float(r[1]) - float(startX))**2 + (float(r[2]) - float(startY))**2) <= 0.05:\n",
        "        count_trues+=1\n",
        "        break\n",
        "\n",
        "    # load the input image (in OpenCV format), resize it such that it\n",
        "    # fits on our screen, and grab its dimensions\n",
        "  image = cv2.imread(imagePath)\n",
        "  image = imutils.resize(image, width=600)\n",
        "  (h, w) = image.shape[:2]\n",
        "  # scale the predicted bounding box coordinates based on the image\n",
        "  # dimensions\n",
        "  print((startX, startY))\n",
        "  print(r[1],r[2])\n",
        "  print(math.sqrt((float(r[1]) - float(startX))**2 + (float(r[2]) - float(startY))**2))\n",
        "  startX = (startX * w)\n",
        "  startY = (startY * h)\n",
        "  # draw the predicted bounding box on the image\n",
        "\n",
        "  # show the output image\n",
        "  cv2.circle(image, (int(startX), int(startY)), 1, (255, 0, 0))\n",
        "  cv2_imshow( image)\n",
        "  cv2.waitKey(0)\n",
        "\n",
        "print(count_trues)"
      ],
      "metadata": {
        "id": "gSLg3tiLLFch"
      },
      "execution_count": null,
      "outputs": []
    },
    {
      "cell_type": "code",
      "execution_count": null,
      "metadata": {
        "id": "Tgan4fMANqwJ"
      },
      "outputs": [],
      "source": [
        "import imutils\n",
        "import cv2\n",
        "import os\n",
        "import math\n",
        "from google.colab.patches import cv2_imshow\n",
        "\n",
        "# loop over the images that we'll be testing using our bounding box\n",
        "# regression model\n",
        "# for imagePath in imagePaths:\n",
        "\t# load the input image (in Keras format) from disk and preprocess\n",
        "\t# it, scaling the pixel intensities to the range [0, 1]\n",
        "imagePath = input(\"imagepath\")\n",
        "image = load_img(imagePath, target_size=(224, 224))\n",
        "image = img_to_array(image) / 255.0\n",
        "image = np.expand_dims(image, axis=0)\n",
        "  # make bounding box predictions on the input image\n",
        "preds = model.predict(image)[0]\n",
        "(startX, startY) = preds\n",
        "# check for distance:\n",
        "#1) get image name from image path\n",
        "#2) get the respective corrdinates\n",
        "#3) check to see ditance between predicted and actual centers is less than 0.05\n",
        "test = imagePath[::-1]\n",
        "index = test.index(\"/\")\n",
        "image_name = test[:index]\n",
        "for r in rows:\n",
        "\tr = r.split()\n",
        "\tif image_name[::-1] == r[0]:\n",
        "\t\tif ((float(r[1]) - float(startX))**2 + (float(r[2]) - float(startY))**2) <= 0.0025:\n",
        "\t\t\tprint(\"True\")\n",
        "\t\telse:\n",
        "\t\t\tprint(\"False\")\n",
        "\n",
        "\t# load the input image (in OpenCV format), resize it such that it\n",
        "\t# fits on our screen, and grab its dimensions\n",
        "image = cv2.imread(imagePath)\n",
        "image = imutils.resize(image, width=600)\n",
        "(h, w) = image.shape[:2]\n",
        "# scale the predicted bounding box coordinates based on the image\n",
        "# dimensions\n",
        "# draw the predicted bounding box on the image\n",
        "print((startX, startY))\n",
        "print(r[1],r[2])\n",
        "print(math.sqrt((float(r[1]) - float(startX))**2 + (float(r[2]) - float(startY))**2))\n",
        "\n",
        "startX = (startX * w)\n",
        "startY = (startY * h)\n",
        "# cv2.rectangle(image, (startX, startY), (startX+0.1,startX+0.1),(0, 255, 0), 2)\n",
        "# show the output image\n",
        "cv2.circle(image, (int(startX), int(startY)), 1, (255, 0, 0))\n",
        "cv2_imshow( image)\n",
        "cv2.waitKey(0)"
      ]
    }
  ],
  "metadata": {
    "colab": {
      "provenance": []
    },
    "kernelspec": {
      "display_name": "Python 3",
      "name": "python3"
    },
    "language_info": {
      "name": "python"
    }
  },
  "nbformat": 4,
  "nbformat_minor": 0
}